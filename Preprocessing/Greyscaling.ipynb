{
  "nbformat": 4,
  "nbformat_minor": 0,
  "metadata": {
    "colab": {
      "provenance": []
    },
    "kernelspec": {
      "name": "python3",
      "display_name": "Python 3"
    },
    "language_info": {
      "name": "python"
    }
  },
  "cells": [
    {
      "cell_type": "code",
      "source": [
        "!pip install pyspark"
      ],
      "metadata": {
        "colab": {
          "base_uri": "https://localhost:8080/"
        },
        "id": "ypE1FgQCAVWS",
        "outputId": "0a93898f-961d-4a28-eb16-a46855da5329"
      },
      "execution_count": 2,
      "outputs": [
        {
          "output_type": "stream",
          "name": "stdout",
          "text": [
            "Collecting pyspark\n",
            "  Downloading pyspark-3.5.0.tar.gz (316.9 MB)\n",
            "\u001b[2K     \u001b[90m━━━━━━━━━━━━━━━━━━━━━━━━━━━━━━━━━━━━━━━━\u001b[0m \u001b[32m316.9/316.9 MB\u001b[0m \u001b[31m3.2 MB/s\u001b[0m eta \u001b[36m0:00:00\u001b[0m\n",
            "\u001b[?25h  Preparing metadata (setup.py) ... \u001b[?25l\u001b[?25hdone\n",
            "Requirement already satisfied: py4j==0.10.9.7 in /usr/local/lib/python3.10/dist-packages (from pyspark) (0.10.9.7)\n",
            "Building wheels for collected packages: pyspark\n",
            "  Building wheel for pyspark (setup.py) ... \u001b[?25l\u001b[?25hdone\n",
            "  Created wheel for pyspark: filename=pyspark-3.5.0-py2.py3-none-any.whl size=317425345 sha256=3c9a7f0dc2e52a28901bb445ad7aa473389308d715de212cbce18a134c53bd5e\n",
            "  Stored in directory: /root/.cache/pip/wheels/41/4e/10/c2cf2467f71c678cfc8a6b9ac9241e5e44a01940da8fbb17fc\n",
            "Successfully built pyspark\n",
            "Installing collected packages: pyspark\n",
            "Successfully installed pyspark-3.5.0\n"
          ]
        }
      ]
    },
    {
      "cell_type": "code",
      "source": [
        "import os\n",
        "import cv2\n",
        "import numpy as np\n",
        "from pyspark.sql import SparkSession\n",
        "\n",
        "# Function to convert image to grayscale\n",
        "def convert_to_grayscale(image_path):\n",
        "    # Read the image\n",
        "    image = cv2.imread(image_path)\n",
        "    # Convert the image to grayscale\n",
        "    grayscale_image = cv2.cvtColor(image, cv2.COLOR_BGR2GRAY)\n",
        "    return grayscale_image\n",
        "\n",
        "# Define the paths\n",
        "input_directory = '/content/drive/MyDrive/New_Dataset/Fake1'\n",
        "output_directory = '/content/drive/MyDrive/New_Dataset/Fake1_Grey'\n",
        "\n",
        "# Create a SparkSession\n",
        "spark = SparkSession.builder.getOrCreate()\n",
        "\n",
        "# List all files in the input directory\n",
        "image_files = [os.path.join(input_directory, file) for file in os.listdir(input_directory)]\n",
        "\n",
        "# Process each image in parallel\n",
        "image_rdd = spark.sparkContext.parallelize(image_files)\n",
        "\n",
        "# Convert each image to grayscale\n",
        "grayscale_images_rdd = image_rdd.map(lambda image_path: (image_path, convert_to_grayscale(image_path)))\n",
        "\n",
        "# Save the grayscale images\n",
        "def save_image(image_data):\n",
        "    image_path, image = image_data\n",
        "    output_path = os.path.join(output_directory, os.path.basename(image_path))\n",
        "    cv2.imwrite(output_path, image)\n",
        "\n",
        "grayscale_images_rdd.foreach(save_image)"
      ],
      "metadata": {
        "id": "FNcr7ijYAJ3A"
      },
      "execution_count": 4,
      "outputs": []
    },
    {
      "cell_type": "code",
      "source": [
        "import os\n",
        "import cv2\n",
        "import numpy as np\n",
        "from pyspark.sql import SparkSession\n",
        "\n",
        "# Function to convert image to grayscale\n",
        "def convert_to_grayscale(image_path):\n",
        "    # Read the image\n",
        "    image = cv2.imread(image_path)\n",
        "    # Convert the image to grayscale\n",
        "    grayscale_image = cv2.cvtColor(image, cv2.COLOR_BGR2GRAY)\n",
        "    return grayscale_image\n",
        "\n",
        "# Define the paths\n",
        "input_directory = '/content/drive/MyDrive/New_Dataset/Original'\n",
        "output_directory = '/content/drive/MyDrive/New_Dataset/Original_Greys'\n",
        "\n",
        "# Create a SparkSession\n",
        "spark = SparkSession.builder.getOrCreate()\n",
        "\n",
        "# List all files in the input directory\n",
        "image_files = [os.path.join(input_directory, file) for file in os.listdir(input_directory)]\n",
        "\n",
        "# Process each image in parallel\n",
        "image_rdd = spark.sparkContext.parallelize(image_files)\n",
        "\n",
        "# Convert each image to grayscale\n",
        "grayscale_images_rdd = image_rdd.map(lambda image_path: (image_path, convert_to_grayscale(image_path)))\n",
        "\n",
        "# Save the grayscale images\n",
        "def save_image(image_data):\n",
        "    image_path, image = image_data\n",
        "    output_path = os.path.join(output_directory, os.path.basename(image_path))\n",
        "    cv2.imwrite(output_path, image)\n",
        "\n",
        "grayscale_images_rdd.foreach(save_image)"
      ],
      "metadata": {
        "id": "OoE721qzB6iF"
      },
      "execution_count": null,
      "outputs": []
    }
  ]
}