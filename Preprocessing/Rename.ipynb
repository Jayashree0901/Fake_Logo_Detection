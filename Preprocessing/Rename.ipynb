{
 "cells": [
  {
   "cell_type": "code",
   "execution_count": 1,
   "id": "b80fde95-b591-4d9f-9419-80ba91756256",
   "metadata": {},
   "outputs": [],
   "source": [
    "import os\n",
    "\n",
    "def rename_files(folder_path):\n",
    "    files = os.listdir(folder_path)\n",
    "    \n",
    "    counter = 1\n",
    "    \n",
    "    for file_name in files:\n",
    "        new_file_name = str(counter) + os.path.splitext(file_name)[1]\n",
    "        \n",
    "        old_file_path = os.path.join(folder_path, file_name)\n",
    "        new_file_path = os.path.join(folder_path, new_file_name)\n",
    "        \n",
    "        os.rename(old_file_path, new_file_path)\n",
    "        \n",
    "        counter += 1\n",
    "\n",
    "folder_path = 'G:/My Drive/Fake'\n",
    "rename_files(folder_path)\n"
   ]
  },
  {
   "cell_type": "code",
   "execution_count": 13,
   "id": "eafaceea-1418-4aa3-aeb7-a55727aedd5d",
   "metadata": {},
   "outputs": [],
   "source": [
    "import os\n",
    "\n",
    "def rename_files(folder_path):\n",
    "    files = os.listdir(folder_path)\n",
    "    \n",
    "    counter = 1\n",
    "    \n",
    "    for file_name in files:\n",
    "        new_file_name = str(counter) + os.path.splitext(file_name)[1]\n",
    "        \n",
    "        old_file_path = os.path.join(folder_path, file_name)\n",
    "        new_file_path = os.path.join(folder_path, new_file_name)\n",
    "        \n",
    "        os.rename(old_file_path, new_file_path)\n",
    "        \n",
    "        counter += 1\n",
    "\n",
    "folder_path = 'G:/My Drive/Original'\n",
    "rename_files(folder_path)\n"
   ]
  },
  {
   "cell_type": "code",
   "execution_count": null,
   "id": "ea6cb14f-9fab-4c51-a81d-09a302f3da54",
   "metadata": {},
   "outputs": [],
   "source": [
    "import os\n",
    "import uuid\n",
    "\n",
    "def rename_images_randomly(folder_path, start_number=2001):\n",
    "   \n",
    "    files = os.listdir(folder_path)\n",
    "    image_files = [f for f in files if f.lower().endswith(('.png', '.jpg', '.jpeg', '.gif', '.bmp'))]\n",
    "    \n",
    "    for filename in image_files:\n",
    "        extension = os.path.splitext(filename)[1] \n",
    "        new_filename = f\"{start_number}_{uuid.uuid4().hex}{extension}\" \n",
    "        try:\n",
    "            os.rename(os.path.join(folder_path, filename), os.path.join(folder_path, new_filename))\n",
    "            start_number += 1\n",
    "        except PermissionError as e:\n",
    "            print(f\"Error renaming file '{filename}': {e}\")\n",
    "\n",
    "folder_path = \"G:/My Drive/Original\"\n",
    "start_number = 2001 \n",
    "rename_images_randomly(folder_path, start_number)\n"
   ]
  }
 ],
 "metadata": {
  "kernelspec": {
   "display_name": "Python 3 (ipykernel)",
   "language": "python",
   "name": "python3"
  },
  "language_info": {
   "codemirror_mode": {
    "name": "ipython",
    "version": 3
   },
   "file_extension": ".py",
   "mimetype": "text/x-python",
   "name": "python",
   "nbconvert_exporter": "python",
   "pygments_lexer": "ipython3",
   "version": "3.11.5"
  }
 },
 "nbformat": 4,
 "nbformat_minor": 5
}
