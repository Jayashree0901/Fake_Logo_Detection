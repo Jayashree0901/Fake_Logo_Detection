{
 "cells": [
  {
   "cell_type": "code",
   "execution_count": 1,
   "id": "b80fde95-b591-4d9f-9419-80ba91756256",
   "metadata": {},
   "outputs": [],
   "source": [
    "import os\n",
    "\n",
    "def rename_files(folder_path):\n",
    "    # Get the list of files in the folder\n",
    "    files = os.listdir(folder_path)\n",
    "    \n",
    "    # Counter for renaming\n",
    "    counter = 1\n",
    "    \n",
    "    # Iterate through each file in the folder\n",
    "    for file_name in files:\n",
    "        # Construct the new file name\n",
    "        new_file_name = str(counter) + os.path.splitext(file_name)[1]\n",
    "        \n",
    "        # Construct the full paths for both old and new file names\n",
    "        old_file_path = os.path.join(folder_path, file_name)\n",
    "        new_file_path = os.path.join(folder_path, new_file_name)\n",
    "        \n",
    "        # Rename the file\n",
    "        os.rename(old_file_path, new_file_path)\n",
    "        \n",
    "        # Increment the counter\n",
    "        counter += 1\n",
    "\n",
    "# Replace 'folder_path' with the path to your folder containing images\n",
    "folder_path = 'G:/My Drive/Fake'\n",
    "rename_files(folder_path)\n"
   ]
  },
  {
   "cell_type": "code",
   "execution_count": 13,
   "id": "eafaceea-1418-4aa3-aeb7-a55727aedd5d",
   "metadata": {},
   "outputs": [],
   "source": [
    "import os\n",
    "\n",
    "def rename_files(folder_path):\n",
    "    # Get the list of files in the folder\n",
    "    files = os.listdir(folder_path)\n",
    "    \n",
    "    # Counter for renaming\n",
    "    counter = 1\n",
    "    \n",
    "    # Iterate through each file in the folder\n",
    "    for file_name in files:\n",
    "        # Construct the new file name\n",
    "        new_file_name = str(counter) + os.path.splitext(file_name)[1]\n",
    "        \n",
    "        # Construct the full paths for both old and new file names\n",
    "        old_file_path = os.path.join(folder_path, file_name)\n",
    "        new_file_path = os.path.join(folder_path, new_file_name)\n",
    "        \n",
    "        # Rename the file\n",
    "        os.rename(old_file_path, new_file_path)\n",
    "        \n",
    "        # Increment the counter\n",
    "        counter += 1\n",
    "\n",
    "# Replace 'folder_path' with the path to your folder containing images\n",
    "folder_path = 'G:/My Drive/Original'\n",
    "rename_files(folder_path)\n"
   ]
  },
  {
   "cell_type": "code",
   "execution_count": 12,
   "id": "ea6cb14f-9fab-4c51-a81d-09a302f3da54",
   "metadata": {},
   "outputs": [
    {
     "name": "stdout",
     "output_type": "stream",
     "text": [
      "Error renaming file '154.jpg': [WinError 32] The process cannot access the file because it is being used by another process: 'G:/My Drive/Original\\\\154.jpg' -> 'G:/My Drive/Original\\\\2154_c4e2c7fea281466396af35d83339ba0b.jpg'\n",
      "Error renaming file '157.jpg': [WinError 32] The process cannot access the file because it is being used by another process: 'G:/My Drive/Original\\\\157.jpg' -> 'G:/My Drive/Original\\\\2156_ec2a21012ce64fbebc1dc6ea130a8f72.jpg'\n",
      "Error renaming file '159.jpg': [WinError 32] The process cannot access the file because it is being used by another process: 'G:/My Drive/Original\\\\159.jpg' -> 'G:/My Drive/Original\\\\2157_6270d8f78d8742b79a348c7a42af34b2.jpg'\n",
      "Error renaming file '386.jpg': [WinError 32] The process cannot access the file because it is being used by another process: 'G:/My Drive/Original\\\\386.jpg' -> 'G:/My Drive/Original\\\\2383_915b355cc6c1455b8b1b0b4db0801dde.jpg'\n",
      "Error renaming file '391.jpg': [WinError 32] The process cannot access the file because it is being used by another process: 'G:/My Drive/Original\\\\391.jpg' -> 'G:/My Drive/Original\\\\2387_06404c79a6c3413bbd3651bdd1c0678f.jpg'\n",
      "Error renaming file '394.jpg': [WinError 32] The process cannot access the file because it is being used by another process: 'G:/My Drive/Original\\\\394.jpg' -> 'G:/My Drive/Original\\\\2389_5c80399e96574709988a14ecdfc5cef4.jpg'\n"
     ]
    }
   ],
   "source": [
    "import os\n",
    "import uuid\n",
    "\n",
    "def rename_images_randomly(folder_path, start_number=2001):\n",
    "    \"\"\"\n",
    "    Rename images in a folder to random strings above start_number.\n",
    "    \n",
    "    Args:\n",
    "    folder_path (str): Path to the folder containing images.\n",
    "    start_number (int): Starting number for renaming. Default is 2001.\n",
    "    \"\"\"\n",
    "    # Get list of files in the folder\n",
    "    files = os.listdir(folder_path)\n",
    "    # Filter out non-image files\n",
    "    image_files = [f for f in files if f.lower().endswith(('.png', '.jpg', '.jpeg', '.gif', '.bmp'))]\n",
    "    \n",
    "    # Rename each image file\n",
    "    for filename in image_files:\n",
    "        extension = os.path.splitext(filename)[1]  # Get file extension\n",
    "        new_filename = f\"{start_number}_{uuid.uuid4().hex}{extension}\"  # Generate new filename\n",
    "        try:\n",
    "            os.rename(os.path.join(folder_path, filename), os.path.join(folder_path, new_filename))\n",
    "            start_number += 1\n",
    "        except PermissionError as e:\n",
    "            print(f\"Error renaming file '{filename}': {e}\")\n",
    "\n",
    "# Example usage:\n",
    "folder_path = \"G:/My Drive/Original\"\n",
    "start_number = 2001  # Change this to the desired starting number\n",
    "rename_images_randomly(folder_path, start_number)\n"
   ]
  },
  {
   "cell_type": "code",
   "execution_count": null,
   "id": "4edfd14f-5a00-4e31-9c52-497e85df9bf9",
   "metadata": {},
   "outputs": [],
   "source": []
  }
 ],
 "metadata": {
  "kernelspec": {
   "display_name": "Python 3 (ipykernel)",
   "language": "python",
   "name": "python3"
  },
  "language_info": {
   "codemirror_mode": {
    "name": "ipython",
    "version": 3
   },
   "file_extension": ".py",
   "mimetype": "text/x-python",
   "name": "python",
   "nbconvert_exporter": "python",
   "pygments_lexer": "ipython3",
   "version": "3.11.5"
  }
 },
 "nbformat": 4,
 "nbformat_minor": 5
}
